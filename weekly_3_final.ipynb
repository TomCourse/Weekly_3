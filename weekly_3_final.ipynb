{
 "cells": [
  {
   "cell_type": "markdown",
   "metadata": {},
   "source": [
    "### Linear Regression <br><br>\n",
    "Linear regression shows the relation between two variables. One dependent (y), one independent (x).<br>\n",
    "The models built through linear regression are able to predict y based on x to certain degree. <br>\n",
    "The variation of the models is the degree to which a model is accuratly able to predict an outcome."
   ]
  },
  {
   "cell_type": "markdown",
   "metadata": {},
   "source": [
    "### The Steps <br>\n",
    "The first step in our data processing is importing all relevant libraries."
   ]
  },
  {
   "cell_type": "code",
   "execution_count": 9,
   "metadata": {},
   "outputs": [],
   "source": [
    "import seaborn as sns\n",
    "import pandas as pd\n",
    "import matplotlib.pyplot as plt\n",
    "from sklearn.linear_model import LinearRegression\n",
    "from sklearn.model_selection import train_test_split\n",
    "import sklearn as sk\n",
    "import math\n",
    "from sklearn.metrics import mean_squared_error\n",
    "from sklearn.metrics import r2_score\n"
   ]
  },
  {
   "cell_type": "markdown",
   "metadata": {},
   "source": [
    "The dataset that we will use is the dataset about Mashable articles, let's import it and see what we're working with."
   ]
  },
  {
   "cell_type": "code",
   "execution_count": 10,
   "metadata": {},
   "outputs": [
    {
     "data": {
      "text/html": [
       "<div>\n",
       "<style scoped>\n",
       "    .dataframe tbody tr th:only-of-type {\n",
       "        vertical-align: middle;\n",
       "    }\n",
       "\n",
       "    .dataframe tbody tr th {\n",
       "        vertical-align: top;\n",
       "    }\n",
       "\n",
       "    .dataframe thead th {\n",
       "        text-align: right;\n",
       "    }\n",
       "</style>\n",
       "<table border=\"1\" class=\"dataframe\">\n",
       "  <thead>\n",
       "    <tr style=\"text-align: right;\">\n",
       "      <th></th>\n",
       "      <th>id</th>\n",
       "      <th>url</th>\n",
       "      <th>n_tokens_title</th>\n",
       "      <th>n_tokens_content</th>\n",
       "      <th>num_imgs</th>\n",
       "      <th>num_videos</th>\n",
       "      <th>average_token_length</th>\n",
       "      <th>data_channel_is_lifestyle</th>\n",
       "      <th>data_channel_is_entertainment</th>\n",
       "      <th>data_channel_is_bus</th>\n",
       "      <th>...</th>\n",
       "      <th>weekday_is_friday</th>\n",
       "      <th>weekday_is_saturday</th>\n",
       "      <th>weekday_is_sunday</th>\n",
       "      <th>is_weekend</th>\n",
       "      <th>global_subjectivity</th>\n",
       "      <th>global_sentiment_polarity</th>\n",
       "      <th>title_subjectivity</th>\n",
       "      <th>title_sentiment_polarity</th>\n",
       "      <th>shares</th>\n",
       "      <th>shares_log</th>\n",
       "    </tr>\n",
       "  </thead>\n",
       "  <tbody>\n",
       "    <tr>\n",
       "      <th>0</th>\n",
       "      <td>1</td>\n",
       "      <td>http://mashable.com/2013/10/29/ashton-kutcher-...</td>\n",
       "      <td>10</td>\n",
       "      <td>821</td>\n",
       "      <td>12</td>\n",
       "      <td>0</td>\n",
       "      <td>4.518879</td>\n",
       "      <td>0</td>\n",
       "      <td>0</td>\n",
       "      <td>0</td>\n",
       "      <td>...</td>\n",
       "      <td>0</td>\n",
       "      <td>0</td>\n",
       "      <td>0</td>\n",
       "      <td>0</td>\n",
       "      <td>0.439379</td>\n",
       "      <td>0.082486</td>\n",
       "      <td>0.666667</td>\n",
       "      <td>0.375</td>\n",
       "      <td>2100</td>\n",
       "      <td>3.322219</td>\n",
       "    </tr>\n",
       "    <tr>\n",
       "      <th>1</th>\n",
       "      <td>2</td>\n",
       "      <td>http://mashable.com/2014/09/08/mashies-sept-19...</td>\n",
       "      <td>9</td>\n",
       "      <td>489</td>\n",
       "      <td>6</td>\n",
       "      <td>0</td>\n",
       "      <td>5.040900</td>\n",
       "      <td>0</td>\n",
       "      <td>0</td>\n",
       "      <td>0</td>\n",
       "      <td>...</td>\n",
       "      <td>0</td>\n",
       "      <td>0</td>\n",
       "      <td>0</td>\n",
       "      <td>0</td>\n",
       "      <td>0.300454</td>\n",
       "      <td>0.027715</td>\n",
       "      <td>0.000000</td>\n",
       "      <td>0.000</td>\n",
       "      <td>274</td>\n",
       "      <td>2.437751</td>\n",
       "    </tr>\n",
       "    <tr>\n",
       "      <th>2</th>\n",
       "      <td>3</td>\n",
       "      <td>http://mashable.com/2013/02/01/hello-kitty-roc...</td>\n",
       "      <td>11</td>\n",
       "      <td>131</td>\n",
       "      <td>0</td>\n",
       "      <td>1</td>\n",
       "      <td>4.877863</td>\n",
       "      <td>0</td>\n",
       "      <td>0</td>\n",
       "      <td>0</td>\n",
       "      <td>...</td>\n",
       "      <td>1</td>\n",
       "      <td>0</td>\n",
       "      <td>0</td>\n",
       "      <td>0</td>\n",
       "      <td>0.575486</td>\n",
       "      <td>0.259120</td>\n",
       "      <td>0.000000</td>\n",
       "      <td>0.000</td>\n",
       "      <td>1500</td>\n",
       "      <td>3.176091</td>\n",
       "    </tr>\n",
       "    <tr>\n",
       "      <th>3</th>\n",
       "      <td>4</td>\n",
       "      <td>http://mashable.com/2014/02/06/add-us-on-snapc...</td>\n",
       "      <td>8</td>\n",
       "      <td>556</td>\n",
       "      <td>2</td>\n",
       "      <td>0</td>\n",
       "      <td>4.974820</td>\n",
       "      <td>0</td>\n",
       "      <td>0</td>\n",
       "      <td>1</td>\n",
       "      <td>...</td>\n",
       "      <td>0</td>\n",
       "      <td>0</td>\n",
       "      <td>0</td>\n",
       "      <td>0</td>\n",
       "      <td>0.327220</td>\n",
       "      <td>0.134424</td>\n",
       "      <td>0.000000</td>\n",
       "      <td>0.000</td>\n",
       "      <td>2000</td>\n",
       "      <td>3.301030</td>\n",
       "    </tr>\n",
       "    <tr>\n",
       "      <th>4</th>\n",
       "      <td>5</td>\n",
       "      <td>http://mashable.com/2014/01/07/lindsey-vonn-wi...</td>\n",
       "      <td>9</td>\n",
       "      <td>880</td>\n",
       "      <td>18</td>\n",
       "      <td>0</td>\n",
       "      <td>4.928409</td>\n",
       "      <td>0</td>\n",
       "      <td>0</td>\n",
       "      <td>0</td>\n",
       "      <td>...</td>\n",
       "      <td>0</td>\n",
       "      <td>0</td>\n",
       "      <td>0</td>\n",
       "      <td>0</td>\n",
       "      <td>0.507709</td>\n",
       "      <td>0.109256</td>\n",
       "      <td>0.000000</td>\n",
       "      <td>0.000</td>\n",
       "      <td>6000</td>\n",
       "      <td>3.778151</td>\n",
       "    </tr>\n",
       "  </tbody>\n",
       "</table>\n",
       "<p>5 rows × 27 columns</p>\n",
       "</div>"
      ],
      "text/plain": [
       "   id                                                url  n_tokens_title  \\\n",
       "0   1  http://mashable.com/2013/10/29/ashton-kutcher-...              10   \n",
       "1   2  http://mashable.com/2014/09/08/mashies-sept-19...               9   \n",
       "2   3  http://mashable.com/2013/02/01/hello-kitty-roc...              11   \n",
       "3   4  http://mashable.com/2014/02/06/add-us-on-snapc...               8   \n",
       "4   5  http://mashable.com/2014/01/07/lindsey-vonn-wi...               9   \n",
       "\n",
       "   n_tokens_content  num_imgs  num_videos  average_token_length  \\\n",
       "0               821        12           0              4.518879   \n",
       "1               489         6           0              5.040900   \n",
       "2               131         0           1              4.877863   \n",
       "3               556         2           0              4.974820   \n",
       "4               880        18           0              4.928409   \n",
       "\n",
       "   data_channel_is_lifestyle  data_channel_is_entertainment  \\\n",
       "0                          0                              0   \n",
       "1                          0                              0   \n",
       "2                          0                              0   \n",
       "3                          0                              0   \n",
       "4                          0                              0   \n",
       "\n",
       "   data_channel_is_bus  ...  weekday_is_friday  weekday_is_saturday  \\\n",
       "0                    0  ...                  0                    0   \n",
       "1                    0  ...                  0                    0   \n",
       "2                    0  ...                  1                    0   \n",
       "3                    1  ...                  0                    0   \n",
       "4                    0  ...                  0                    0   \n",
       "\n",
       "   weekday_is_sunday  is_weekend  global_subjectivity  \\\n",
       "0                  0           0             0.439379   \n",
       "1                  0           0             0.300454   \n",
       "2                  0           0             0.575486   \n",
       "3                  0           0             0.327220   \n",
       "4                  0           0             0.507709   \n",
       "\n",
       "   global_sentiment_polarity  title_subjectivity  title_sentiment_polarity  \\\n",
       "0                   0.082486            0.666667                     0.375   \n",
       "1                   0.027715            0.000000                     0.000   \n",
       "2                   0.259120            0.000000                     0.000   \n",
       "3                   0.134424            0.000000                     0.000   \n",
       "4                   0.109256            0.000000                     0.000   \n",
       "\n",
       "   shares  shares_log  \n",
       "0    2100    3.322219  \n",
       "1     274    2.437751  \n",
       "2    1500    3.176091  \n",
       "3    2000    3.301030  \n",
       "4    6000    3.778151  \n",
       "\n",
       "[5 rows x 27 columns]"
      ]
     },
     "execution_count": 10,
     "metadata": {},
     "output_type": "execute_result"
    }
   ],
   "source": [
    "df = pd.read_csv('mashable.csv')\n",
    "df = df.dropna()\n",
    "df.head()"
   ]
  },
  {
   "cell_type": "markdown",
   "metadata": {},
   "source": [
    "To have a bit more of an overiew, we print the info of our dataset. <br>\n",
    "This gives us a nice table with all relevant information"
   ]
  },
  {
   "cell_type": "code",
   "execution_count": 11,
   "metadata": {},
   "outputs": [
    {
     "name": "stdout",
     "output_type": "stream",
     "text": [
      "<class 'pandas.core.frame.DataFrame'>\n",
      "Int64Index: 24999 entries, 0 to 24998\n",
      "Data columns (total 27 columns):\n",
      " #   Column                         Non-Null Count  Dtype  \n",
      "---  ------                         --------------  -----  \n",
      " 0   id                             24999 non-null  int64  \n",
      " 1   url                            24999 non-null  object \n",
      " 2   n_tokens_title                 24999 non-null  int64  \n",
      " 3   n_tokens_content               24999 non-null  int64  \n",
      " 4   num_imgs                       24999 non-null  int64  \n",
      " 5   num_videos                     24999 non-null  int64  \n",
      " 6   average_token_length           24999 non-null  float64\n",
      " 7   data_channel_is_lifestyle      24999 non-null  int64  \n",
      " 8   data_channel_is_entertainment  24999 non-null  int64  \n",
      " 9   data_channel_is_bus            24999 non-null  int64  \n",
      " 10  data_channel_is_socmed         24999 non-null  int64  \n",
      " 11  data_channel_is_tech           24999 non-null  int64  \n",
      " 12  data_channel_is_world          24999 non-null  int64  \n",
      " 13  weekday_is_monday              24999 non-null  int64  \n",
      " 14  weekday_is_tuesday             24999 non-null  int64  \n",
      " 15  weekday_is_wednesday           24999 non-null  int64  \n",
      " 16  weekday_is_thursday            24999 non-null  int64  \n",
      " 17  weekday_is_friday              24999 non-null  int64  \n",
      " 18  weekday_is_saturday            24999 non-null  int64  \n",
      " 19  weekday_is_sunday              24999 non-null  int64  \n",
      " 20  is_weekend                     24999 non-null  int64  \n",
      " 21  global_subjectivity            24999 non-null  float64\n",
      " 22  global_sentiment_polarity      24999 non-null  float64\n",
      " 23  title_subjectivity             24999 non-null  float64\n",
      " 24  title_sentiment_polarity       24999 non-null  float64\n",
      " 25  shares                         24999 non-null  int64  \n",
      " 26  shares_log                     24999 non-null  float64\n",
      "dtypes: float64(6), int64(20), object(1)\n",
      "memory usage: 5.3+ MB\n"
     ]
    }
   ],
   "source": [
    "df.info()"
   ]
  },
  {
   "cell_type": "markdown",
   "metadata": {},
   "source": [
    "The next step is to isolate 5 variables and split these into our training and testing set. <br>\n",
    "We start of with isolating the relevant variables. We pick 5 different ones. <br>\n",
    "It is important to pick variables that are not too strongly corellated with each other. <br>\n",
    "Doing so would cause multicollinearity. It is interesting to see if weekday vs. weekend day makes a difference<br>\n",
    "For this reason we pick only a single data channel and a single 'day of the week'."
   ]
  },
  {
   "cell_type": "code",
   "execution_count": null,
   "metadata": {},
   "outputs": [],
   "source": []
  },
  {
   "cell_type": "code",
   "execution_count": 12,
   "metadata": {},
   "outputs": [
    {
     "data": {
      "text/html": [
       "<div>\n",
       "<style scoped>\n",
       "    .dataframe tbody tr th:only-of-type {\n",
       "        vertical-align: middle;\n",
       "    }\n",
       "\n",
       "    .dataframe tbody tr th {\n",
       "        vertical-align: top;\n",
       "    }\n",
       "\n",
       "    .dataframe thead th {\n",
       "        text-align: right;\n",
       "    }\n",
       "</style>\n",
       "<table border=\"1\" class=\"dataframe\">\n",
       "  <thead>\n",
       "    <tr style=\"text-align: right;\">\n",
       "      <th></th>\n",
       "      <th>n_tokens_content</th>\n",
       "      <th>data_channel_is_socmed</th>\n",
       "      <th>num_imgs</th>\n",
       "      <th>num_videos</th>\n",
       "      <th>is_weekend</th>\n",
       "      <th>shares_log</th>\n",
       "    </tr>\n",
       "  </thead>\n",
       "  <tbody>\n",
       "    <tr>\n",
       "      <th>0</th>\n",
       "      <td>821</td>\n",
       "      <td>0</td>\n",
       "      <td>12</td>\n",
       "      <td>0</td>\n",
       "      <td>0</td>\n",
       "      <td>3.322219</td>\n",
       "    </tr>\n",
       "    <tr>\n",
       "      <th>1</th>\n",
       "      <td>489</td>\n",
       "      <td>0</td>\n",
       "      <td>6</td>\n",
       "      <td>0</td>\n",
       "      <td>0</td>\n",
       "      <td>2.437751</td>\n",
       "    </tr>\n",
       "    <tr>\n",
       "      <th>2</th>\n",
       "      <td>131</td>\n",
       "      <td>0</td>\n",
       "      <td>0</td>\n",
       "      <td>1</td>\n",
       "      <td>0</td>\n",
       "      <td>3.176091</td>\n",
       "    </tr>\n",
       "    <tr>\n",
       "      <th>3</th>\n",
       "      <td>556</td>\n",
       "      <td>0</td>\n",
       "      <td>2</td>\n",
       "      <td>0</td>\n",
       "      <td>0</td>\n",
       "      <td>3.301030</td>\n",
       "    </tr>\n",
       "    <tr>\n",
       "      <th>4</th>\n",
       "      <td>880</td>\n",
       "      <td>0</td>\n",
       "      <td>18</td>\n",
       "      <td>0</td>\n",
       "      <td>0</td>\n",
       "      <td>3.778151</td>\n",
       "    </tr>\n",
       "  </tbody>\n",
       "</table>\n",
       "</div>"
      ],
      "text/plain": [
       "   n_tokens_content  data_channel_is_socmed  num_imgs  num_videos  is_weekend  \\\n",
       "0               821                       0        12           0           0   \n",
       "1               489                       0         6           0           0   \n",
       "2               131                       0         0           1           0   \n",
       "3               556                       0         2           0           0   \n",
       "4               880                       0        18           0           0   \n",
       "\n",
       "   shares_log  \n",
       "0    3.322219  \n",
       "1    2.437751  \n",
       "2    3.176091  \n",
       "3    3.301030  \n",
       "4    3.778151  "
      ]
     },
     "execution_count": 12,
     "metadata": {},
     "output_type": "execute_result"
    }
   ],
   "source": [
    "df_weekend = df[['n_tokens_content', 'data_channel_is_socmed', 'num_imgs', 'num_videos', 'is_weekend', 'shares_log']]\n",
    "\n",
    "#The df_sub subset was a practise run but did not get used in the end. \n",
    "#The .loc function was nice to play around with\n",
    "df_sub = df.loc[:,'n_tokens_content':'is_weekend']\n",
    "df_sub = df_sub.drop(['average_token_length'], axis=1)\n",
    "\n",
    "y = df_weekend['shares_log'] #We need to take out the rating as our Y-variable\n",
    "X = df_weekend.loc[:,'n_tokens_content':'is_weekend'] #this stores the movie names in the column names, so we don't lose track of them later\n",
    "df_weekend.head()"
   ]
  },
  {
   "cell_type": "markdown",
   "metadata": {},
   "source": [
    "Now for splitting the dataset! We use the built in function from sk-learn"
   ]
  },
  {
   "cell_type": "code",
   "execution_count": 13,
   "metadata": {},
   "outputs": [
    {
     "data": {
      "text/html": [
       "<div>\n",
       "<style scoped>\n",
       "    .dataframe tbody tr th:only-of-type {\n",
       "        vertical-align: middle;\n",
       "    }\n",
       "\n",
       "    .dataframe tbody tr th {\n",
       "        vertical-align: top;\n",
       "    }\n",
       "\n",
       "    .dataframe thead th {\n",
       "        text-align: right;\n",
       "    }\n",
       "</style>\n",
       "<table border=\"1\" class=\"dataframe\">\n",
       "  <thead>\n",
       "    <tr style=\"text-align: right;\">\n",
       "      <th></th>\n",
       "      <th>n_tokens_content</th>\n",
       "      <th>data_channel_is_socmed</th>\n",
       "      <th>num_imgs</th>\n",
       "      <th>num_videos</th>\n",
       "      <th>is_weekend</th>\n",
       "    </tr>\n",
       "  </thead>\n",
       "  <tbody>\n",
       "    <tr>\n",
       "      <th>3272</th>\n",
       "      <td>229</td>\n",
       "      <td>0</td>\n",
       "      <td>12</td>\n",
       "      <td>0</td>\n",
       "      <td>0</td>\n",
       "    </tr>\n",
       "    <tr>\n",
       "      <th>14858</th>\n",
       "      <td>1750</td>\n",
       "      <td>0</td>\n",
       "      <td>1</td>\n",
       "      <td>1</td>\n",
       "      <td>0</td>\n",
       "    </tr>\n",
       "    <tr>\n",
       "      <th>6238</th>\n",
       "      <td>476</td>\n",
       "      <td>1</td>\n",
       "      <td>1</td>\n",
       "      <td>0</td>\n",
       "      <td>0</td>\n",
       "    </tr>\n",
       "    <tr>\n",
       "      <th>10796</th>\n",
       "      <td>352</td>\n",
       "      <td>0</td>\n",
       "      <td>1</td>\n",
       "      <td>0</td>\n",
       "      <td>0</td>\n",
       "    </tr>\n",
       "    <tr>\n",
       "      <th>20476</th>\n",
       "      <td>612</td>\n",
       "      <td>1</td>\n",
       "      <td>1</td>\n",
       "      <td>0</td>\n",
       "      <td>0</td>\n",
       "    </tr>\n",
       "  </tbody>\n",
       "</table>\n",
       "</div>"
      ],
      "text/plain": [
       "       n_tokens_content  data_channel_is_socmed  num_imgs  num_videos  \\\n",
       "3272                229                       0        12           0   \n",
       "14858              1750                       0         1           1   \n",
       "6238                476                       1         1           0   \n",
       "10796               352                       0         1           0   \n",
       "20476               612                       1         1           0   \n",
       "\n",
       "       is_weekend  \n",
       "3272            0  \n",
       "14858           0  \n",
       "6238            0  \n",
       "10796           0  \n",
       "20476           0  "
      ]
     },
     "execution_count": 13,
     "metadata": {},
     "output_type": "execute_result"
    }
   ],
   "source": [
    "X_train, X_test, y_train, y_test = train_test_split(X, y, test_size=0.25, random_state=1)\n",
    "X_train.head()"
   ]
  },
  {
   "cell_type": "markdown",
   "metadata": {},
   "source": [
    "We will let the model learn with our train set and print the coefficient straight after."
   ]
  },
  {
   "cell_type": "code",
   "execution_count": 14,
   "metadata": {},
   "outputs": [
    {
     "data": {
      "text/html": [
       "<div>\n",
       "<style scoped>\n",
       "    .dataframe tbody tr th:only-of-type {\n",
       "        vertical-align: middle;\n",
       "    }\n",
       "\n",
       "    .dataframe tbody tr th {\n",
       "        vertical-align: top;\n",
       "    }\n",
       "\n",
       "    .dataframe thead th {\n",
       "        text-align: right;\n",
       "    }\n",
       "</style>\n",
       "<table border=\"1\" class=\"dataframe\">\n",
       "  <thead>\n",
       "    <tr style=\"text-align: right;\">\n",
       "      <th></th>\n",
       "      <th>0</th>\n",
       "    </tr>\n",
       "  </thead>\n",
       "  <tbody>\n",
       "    <tr>\n",
       "      <th>-0.000016</th>\n",
       "      <td>n_tokens_content</td>\n",
       "    </tr>\n",
       "    <tr>\n",
       "      <th>0.140128</th>\n",
       "      <td>data_channel_is_socmed</td>\n",
       "    </tr>\n",
       "    <tr>\n",
       "      <th>0.004359</th>\n",
       "      <td>num_imgs</td>\n",
       "    </tr>\n",
       "    <tr>\n",
       "      <th>0.004685</th>\n",
       "      <td>num_videos</td>\n",
       "    </tr>\n",
       "    <tr>\n",
       "      <th>0.130754</th>\n",
       "      <td>is_weekend</td>\n",
       "    </tr>\n",
       "  </tbody>\n",
       "</table>\n",
       "</div>"
      ],
      "text/plain": [
       "                                0\n",
       "-0.000016        n_tokens_content\n",
       " 0.140128  data_channel_is_socmed\n",
       " 0.004359                num_imgs\n",
       " 0.004685              num_videos\n",
       " 0.130754              is_weekend"
      ]
     },
     "execution_count": 14,
     "metadata": {},
     "output_type": "execute_result"
    }
   ],
   "source": [
    "lm = LinearRegression() #create the model\n",
    "model = lm.fit(X_train, y_train)\n",
    "coef = pd.DataFrame(X.columns.values, lm.coef_) #this creates a df with a column with the column names, and the coefficients of the model\n",
    "coef"
   ]
  },
  {
   "cell_type": "markdown",
   "metadata": {},
   "source": [
    "Some rough conclusions that we might make from the table above is that lenghtier articles (with a higher word count)<br>\n",
    "get shared less than shorter articles. However, the relation is weak to say the least. <br>\n",
    "Articles concerning social media (socmed) have an increased likelihood of getting shared. The socmed variable is the  strongest variable. <br> <br>\n",
    "The number of both videos and images featured in articles have a weak, yet positive effect on the number of shares an article can potentially reach. <br><br>\n",
    "The last variable is concerned with the day an article is published. An important note to consider is that while a weekend release of an article has a positive effect on the share potential, we have no comparison in this dataframe to weekdays/other days. Drawing a final conclusion on optimal day to release is not possible here."
   ]
  },
  {
   "cell_type": "code",
   "execution_count": 15,
   "metadata": {},
   "outputs": [
    {
     "data": {
      "text/plain": [
       "0.026503180718004504"
      ]
     },
     "execution_count": 15,
     "metadata": {},
     "output_type": "execute_result"
    }
   ],
   "source": [
    "y_test_p = lm.predict(X_test) #Generate predictions for the test data. So we use X.test, not X.train\n",
    "r2_score(y_test, y_test_p)"
   ]
  },
  {
   "cell_type": "markdown",
   "metadata": {},
   "source": [
    "Our R squared is roughly 0.027, which translates to 2.7%. Seemingly low. We would be able to play around with the variables to optimize our model. However, considering the amount of variables and their inaccuracy it won't be improving by a significant amount."
   ]
  },
  {
   "cell_type": "code",
   "execution_count": 16,
   "metadata": {},
   "outputs": [
    {
     "data": {
      "text/plain": [
       "0.40204443339095863"
      ]
     },
     "execution_count": 16,
     "metadata": {},
     "output_type": "execute_result"
    }
   ],
   "source": [
    "math.sqrt(mean_squared_error(y_test, y_test_p))"
   ]
  },
  {
   "cell_type": "markdown",
   "metadata": {},
   "source": [
    "The MSRE is 0.4, which is pretty decent for this data set. It describes the amount of error occuring in the predictive model (Is this right?)"
   ]
  },
  {
   "cell_type": "code",
   "execution_count": 17,
   "metadata": {},
   "outputs": [
    {
     "name": "stdout",
     "output_type": "stream",
     "text": [
      "The regression line is equal to y = 3.212 + 0.279911X\n"
     ]
    }
   ],
   "source": [
    "b0 = lm.intercept_ #gets the intercept\n",
    "b1 = lm.coef_[0] #lm.coef_ gets a list of coefficients (excluding the intercept). [0] gets the actual number from the list\n",
    "b2 = lm.coef_[1]\n",
    "b3 = lm.coef_[2]\n",
    "b4 = lm.coef_[3]\n",
    "b5 = lm.coef_[4]\n",
    "print(f\"The regression line is equal to y = {b0:.3f} + {b1 + b2 + b3 + b4 + b5:.6f}X\")"
   ]
  },
  {
   "cell_type": "code",
   "execution_count": 20,
   "metadata": {},
   "outputs": [
    {
     "name": "stderr",
     "output_type": "stream",
     "text": [
      "/Library/Frameworks/Python.framework/Versions/3.8/lib/python3.8/site-packages/seaborn/_decorators.py:36: FutureWarning: Pass the following variables as keyword args: x, y. From version 0.12, the only valid positional argument will be `data`, and passing other arguments without an explicit keyword will result in an error or misinterpretation.\n",
      "  warnings.warn(\n"
     ]
    },
    {
     "data": {
      "image/png": "[encoded data removed]",
      "text/plain": [
       "<Figure size 432x288 with 1 Axes>"
      ]
     },
     "metadata": {
      "needs_background": "light"
     },
     "output_type": "display_data"
    }
   ],
   "source": [
    "sns.scatterplot(y_test, y_test_p)\n",
    "plt.xlabel('Actual share rate')\n",
    "plt.ylabel('Predicted share rate')\n",
    "plt.xlim([3,6]) #Forcing the x- and y-axis to be the same length, so that we can compare \n",
    "plt.ylim([3,4])\n",
    "plt.plot([3, 6], [3, 4], color='red', lw=3) #Plot a diagonal length\n",
    "plt.show()"
   ]
  },
  {
   "cell_type": "markdown",
   "metadata": {},
   "source": [
    "The above plot describes the relation between predicted amounts of shares and the actual. <br>\n",
    "A conclusion that can be derived is that the model has a difficulty with predicting highly shared articles. <br>\n",
    "The model brings down the highest shared articles to a minimum, while bumping up the lowest shared articles. <br>\n",
    "We can then conclude that the model is not accurate when it comes to the extremes of both ends. <br> <br>\n",
    "Middle (mediumly) shared articles are more accurately predicted. This would make sense since the model attempts to normalize the distribution of the articles. "
   ]
  },
  {
   "cell_type": "code",
   "execution_count": null,
   "metadata": {},
   "outputs": [],
   "source": []
  }
 ],
 "metadata": {
  "kernelspec": {
   "display_name": "Python 3",
   "language": "python",
   "name": "python3"
  },
  "language_info": {
   "codemirror_mode": {
    "name": "ipython",
    "version": 3
   },
   "file_extension": ".py",
   "mimetype": "text/x-python",
   "name": "python",
   "nbconvert_exporter": "python",
   "pygments_lexer": "ipython3",
   "version": "3.8.5"
  }
 },
 "nbformat": 4,
 "nbformat_minor": 4
}
